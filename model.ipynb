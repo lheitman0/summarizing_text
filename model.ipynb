{
 "cells": [
  {
   "cell_type": "code",
   "execution_count": 6,
   "metadata": {},
   "outputs": [],
   "source": [
    "# from flask import Flask, request, jsonify\n",
    "from transformers import BartTokenizer, BartForConditionalGeneration"
   ]
  },
  {
   "cell_type": "code",
   "execution_count": 3,
   "metadata": {},
   "outputs": [
    {
     "name": "stderr",
     "output_type": "stream",
     "text": [
      "model.safetensors: 100%|██████████| 1.63G/1.63G [02:46<00:00, 9.78MB/s]\n",
      "generation_config.json: 100%|██████████| 363/363 [00:00<00:00, 2.49MB/s]\n"
     ]
    }
   ],
   "source": [
    "model_name = 'facebook/bart-large-cnn'\n",
    "tokenizer = BartTokenizer.from_pretrained(model_name)\n",
    "model = BartForConditionalGeneration.from_pretrained(model_name)"
   ]
  },
  {
   "cell_type": "code",
   "execution_count": 4,
   "metadata": {},
   "outputs": [],
   "source": [
    "# summarize function\n",
    "# lenght_penalty, how is the model rewarded based on how close it stays to min/max length token val\n",
    "# num_beams, algo uses beam search to find optimal path through decision tree\n",
    "# inputs, preprends summarize to signify to the model about the specific task and then tokenizes text, return_tensors set to pt for expected pytorch tensor output\n",
    "# summar_ids, generates the output\n",
    "# return statement changes tokens back to decoded text for a human readable output\n",
    "def summarize(text, max_length=130, min_length=30, length_penalty=2.0, num_beams=4):\n",
    "    inputs = tokenizer.encode(\"summarize: \" + text, return_tensors=\"pt\", truncation=True, max_length=1024)\n",
    "    summary_ids = model.generate(inputs, max_length=max_length, min_length=min_length, length_penalty=length_penalty, num_beams=num_beams, early_stopping=True)\n",
    "    return tokenizer.decode(summary_ids[0], skip_special_tokens=True)"
   ]
  },
  {
   "cell_type": "code",
   "execution_count": 5,
   "metadata": {},
   "outputs": [
    {
     "name": "stdout",
     "output_type": "stream",
     "text": [
      "Summary:\n",
      "The film is about four kids lamenting the loss of their childhood. It's not just their childhood, it's everything. As machines got better and better at predicting behavior, there was less and less owned space. Everything feels like a Xerox of a XerX.\n",
      "Summary:\n",
      "summarize:    “I’ll be in touch with you soon.”  “What’s next?” you ask. “I want to know where you’re going.’ ““What do you want to do?’” “Tell me what you think.“” I’d like to hear from you. What do you need to know? ”.\n"
     ]
    }
   ],
   "source": [
    "def main():\n",
    "    while True:\n",
    "        text = input(\"Enter the text to summarize (or 'exit' to quit): \")\n",
    "        if text.lower() == 'exit':\n",
    "            break\n",
    "        print(\"Summary:\")\n",
    "        print(summarize(text))\n",
    "\n",
    "if __name__ == '__main__':\n",
    "    main()"
   ]
  }
 ],
 "metadata": {
  "kernelspec": {
   "display_name": "stt",
   "language": "python",
   "name": "python3"
  },
  "language_info": {
   "codemirror_mode": {
    "name": "ipython",
    "version": 3
   },
   "file_extension": ".py",
   "mimetype": "text/x-python",
   "name": "python",
   "nbconvert_exporter": "python",
   "pygments_lexer": "ipython3",
   "version": "3.12.1"
  }
 },
 "nbformat": 4,
 "nbformat_minor": 2
}
